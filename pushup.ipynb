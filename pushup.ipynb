{
 "cells": [
  {
   "cell_type": "code",
   "execution_count": 1,
   "id": "b1dc9bb5",
   "metadata": {},
   "outputs": [],
   "source": [
    "import mediapipe as mp\n",
    "import tensorflow as tf\n",
    "import numpy as np\n",
    "import pandas as pd\n",
    "import cv2"
   ]
  },
  {
   "cell_type": "code",
   "execution_count": 2,
   "id": "128908a8",
   "metadata": {},
   "outputs": [],
   "source": [
    "mp_drawing = mp.solutions.drawing_utils\n",
    "mp_pose= mp.solutions.pose"
   ]
  },
  {
   "cell_type": "code",
   "execution_count": 3,
   "id": "cde45762",
   "metadata": {},
   "outputs": [],
   "source": [
    "def calculate_angle(a,b,c):\n",
    "    a=np.array(a)#pertama\n",
    "    b=np.array(b)#kedua\n",
    "    c=np.array(c)#ketiga\n",
    "    radians = np.arctan2(c[1]-b[1],c[0]-b[-0])-np.arctan2(a[1]-b[1],a[0]-b[0])\n",
    "    angle=np.abs(radians*180/np.pi)\n",
    "    if angle>180.0:\n",
    "        angle=360-angle\n",
    "        \n",
    "    return angle"
   ]
  },
  {
   "cell_type": "code",
   "execution_count": 7,
   "id": "f39c3612",
   "metadata": {},
   "outputs": [],
   "source": [
    "cap = cv2.VideoCapture(0)\n",
    "flag=[0,0]\n",
    "push=0\n",
    "with mp_pose.Pose(min_detection_confidence=0.5,min_tracking_confidence=0.5) as pose:\n",
    "    while cap.isOpened():\n",
    "        rel,rst = cap.read()\n",
    "        result = pose.process(cv2.cvtColor(rst,cv2.COLOR_BGR2RGB))\n",
    "        mp_drawing.draw_landmarks(rst,result.pose_landmarks,mp_pose.POSE_CONNECTIONS)\n",
    "        try:\n",
    "            landmarkss =result.pose_landmarks.landmark\n",
    "            a=[landmarkss[23].x,landmarkss[23].y]\n",
    "            b=[landmarkss[11].x,landmarkss[11].y]\n",
    "            c=[landmarkss[13].x,landmarkss[13].y]\n",
    "            angle1=calculate_angle(a,b,c)\n",
    "            if angle1 <40:\n",
    "                flag[0]=1\n",
    "            rst = cv2.putText(rst,str(angle1)\n",
    "                              ,tuple(np.multiply(b,[640,480]).astype(int)),\n",
    "                              cv2.FONT_HERSHEY_PLAIN,1,(255,255,255))\n",
    "            a=[landmarkss[16].x,landmarkss[16].y]\n",
    "            b=[landmarkss[14].x,landmarkss[14].y]\n",
    "            c=[landmarkss[12].x,landmarkss[12].y]\n",
    "            angle2=calculate_angle(a,b,c)\n",
    "            if angle2 <40:\n",
    "                flag[1]=1\n",
    "            rst = cv2.putText(rst,str(angle2)\n",
    "                              ,tuple(np.multiply(b,[640,480]).astype(int)),\n",
    "                              cv2.FONT_HERSHEY_PLAIN,1,(255,255,255))\n",
    "            if sum(flag)==2 and angle1>140 and angle2>140 :\n",
    "                flag=[0,0]\n",
    "                push+=1\n",
    "        except :\n",
    "            pass\n",
    "        rst = cv2.putText(rst,\"Number of push up : {}\".format(push)\n",
    "                          ,(120,120),\n",
    "                          cv2.FONT_HERSHEY_PLAIN,2,(255,255,255))\n",
    "        cv2.imshow(\"test\",rst)\n",
    "        if cv2.waitKey(10) == ord('q'):\n",
    "            break\n",
    "cap.release()\n",
    "cv2.destroyAllWindows()"
   ]
  },
  {
   "cell_type": "code",
   "execution_count": null,
   "id": "843fc325",
   "metadata": {},
   "outputs": [],
   "source": [
    "cv2.flip??"
   ]
  },
  {
   "cell_type": "code",
   "execution_count": null,
   "id": "23ed7c89",
   "metadata": {},
   "outputs": [],
   "source": []
  }
 ],
 "metadata": {
  "kernelspec": {
   "display_name": "Python 3 (ipykernel)",
   "language": "python",
   "name": "python3"
  },
  "language_info": {
   "codemirror_mode": {
    "name": "ipython",
    "version": 3
   },
   "file_extension": ".py",
   "mimetype": "text/x-python",
   "name": "python",
   "nbconvert_exporter": "python",
   "pygments_lexer": "ipython3",
   "version": "3.9.12"
  }
 },
 "nbformat": 4,
 "nbformat_minor": 5
}
